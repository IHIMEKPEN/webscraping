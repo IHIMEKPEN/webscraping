{
 "cells": [
  {
   "cell_type": "code",
   "execution_count": 28,
   "source": [
    "import bs4\r\n",
    "from urllib.request import urlopen as ureq\r\n",
    "from bs4 import BeautifulSoup as soup\r\n",
    "\r\n",
    "my_url='https://www.newegg.com/p/pl?d=graphic+card'\r\n",
    "\r\n",
    "#opening up a connection and grabbin the page\r\n",
    "uclient=ureq(my_url)\r\n",
    "page_html=uclient.read()#store the raw html of the url in a variable\r\n",
    "uclient.close()\r\n",
    "\r\n",
    "#html parsing\r\n",
    "page_soup=soup(page_html,\"html.parser\")\r\n",
    "# page_soup.h1\r\n",
    "# page_soup.body.span\r\n",
    "\r\n",
    "#grabs each product\r\n",
    "products=page_soup.find_all(\"div\",{\"class\":\"item-cell\"})\r\n",
    "len(products)\r\n",
    "product=products[1]\r\n",
    "# title_product=product.find_all(\"a\",{\"class\":\"item-title\"})\r\n",
    "# title_product=title_product[0]\r\n",
    "# title_product.text\r\n",
    "curent_price=product.find_all(\"li\",{\"class\":\"price-current\"})\r\n",
    "curent_price[0].text\r\n",
    "# product.div.div."
   ],
   "outputs": [
    {
     "output_type": "execute_result",
     "data": {
      "text/plain": [
       "'$67.99\\xa0–'"
      ]
     },
     "metadata": {},
     "execution_count": 28
    }
   ],
   "metadata": {}
  },
  {
   "cell_type": "code",
   "execution_count": null,
   "source": [],
   "outputs": [],
   "metadata": {}
  }
 ],
 "metadata": {
  "orig_nbformat": 4,
  "language_info": {
   "name": "python",
   "version": "3.8.1",
   "mimetype": "text/x-python",
   "codemirror_mode": {
    "name": "ipython",
    "version": 3
   },
   "pygments_lexer": "ipython3",
   "nbconvert_exporter": "python",
   "file_extension": ".py"
  },
  "kernelspec": {
   "name": "python3",
   "display_name": "Python 3.8.1 32-bit"
  },
  "interpreter": {
   "hash": "97d84dfad59e507effbd033152b07f61024fed6c4c6696ec20909ef506125c78"
  }
 },
 "nbformat": 4,
 "nbformat_minor": 2
}